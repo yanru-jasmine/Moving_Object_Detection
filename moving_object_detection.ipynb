{
  "nbformat": 4,
  "nbformat_minor": 0,
  "metadata": {
    "colab": {
      "name": "4004_hw7.ipynb",
      "provenance": [],
      "collapsed_sections": [],
      "authorship_tag": "ABX9TyM0immAG6AI613mjtfCIzju",
      "include_colab_link": true
    },
    "kernelspec": {
      "name": "python3",
      "display_name": "Python 3"
    },
    "language_info": {
      "name": "python"
    }
  },
  "cells": [
    {
      "cell_type": "markdown",
      "metadata": {
        "id": "view-in-github",
        "colab_type": "text"
      },
      "source": [
        "<a href=\"https://colab.research.google.com/github/yanru-jasmine/Moving_Object_Detection/blob/main/moving_object_detection.ipynb\" target=\"_parent\"><img src=\"https://colab.research.google.com/assets/colab-badge.svg\" alt=\"Open In Colab\"/></a>"
      ]
    },
    {
      "cell_type": "code",
      "source": [
        "from __future__ import division, print_function\n",
        "# -*- coding: utf-8 -*-\n",
        "import cv2 as cv\n",
        "import math\n",
        "import datetime \n",
        "import random\n",
        "import numpy as np\n",
        "import os\n",
        "from tqdm import tqdm"
      ],
      "metadata": {
        "id": "rXSZUtjoQceu"
      },
      "execution_count": null,
      "outputs": []
    },
    {
      "cell_type": "code",
      "source": [
        "from google.colab import drive\n",
        "import os\n",
        "drive.mount('/content/drive')\n",
        "os.chdir('/content/drive/My Drive/Colab Notebooks/')\n",
        "video_path = 'video.mp4'\n",
        "output_folder = '/content/drive/My Drive/Colab Notebooks/'"
      ],
      "metadata": {
        "colab": {
          "base_uri": "https://localhost:8080/"
        },
        "id": "3LSGAhPZyxHK",
        "outputId": "c5311756-14b5-48c8-d531-4073adc7d964"
      },
      "execution_count": null,
      "outputs": [
        {
          "output_type": "stream",
          "name": "stdout",
          "text": [
            "Drive already mounted at /content/drive; to attempt to forcibly remount, call drive.mount(\"/content/drive\", force_remount=True).\n"
          ]
        }
      ]
    },
    {
      "cell_type": "code",
      "source": [
        "##capture\n",
        "capture = cv.VideoCapture(video_path) #Path of the video\n",
        "frame_width = int(capture.get(cv.CAP_PROP_FRAME_WIDTH)) #get frame width of the video\n",
        "frame_height = int(capture.get(cv.CAP_PROP_FRAME_HEIGHT)) #get frame height of the video\n",
        "frame_rate = int(capture.get(cv.CAP_PROP_FPS)) # get number of frames per second\n",
        "num_frame =int(capture.get(cv.CAP_PROP_FRAME_COUNT)) #get total number of frames\n",
        "fourcc = int(capture.get(cv.CAP_PROP_FOURCC)) #get fourcc code of the video\n",
        "\n",
        "#Resizing the video and convert the video to a matrix M, where each column contains pixel information\n",
        "#You can increase target_width below to get video with better quality, if the code does not take forever to run in your computer\n",
        "target_width = 300 #width of the video after preprocessing\n",
        "\n",
        "##Resize \n",
        "##from a frame\n",
        "target_height = int(frame_height*target_width/frame_width)\n",
        "size = [target_height, target_width, 3] #size of the tensor of each frame\n",
        "i = 0\n",
        "Total = target_width*target_height*3 #number of pixels per frame\n",
        "M = np.zeros((Total,num_frame), dtype = 'uint8')\n",
        "while i<num_frame:\n",
        "\tret, frame = capture.read()\n",
        "\tif frame is None:\n",
        "\t\tbreak        \n",
        "\telse:\n",
        "\t\tframe = cv.resize(frame,(target_width,target_height))\n",
        "\t\tM[:,i] = frame.reshape((1,Total))\n",
        "\t\ti = i + 1\n",
        "num_frame = i\n",
        "M = M[:,:num_frame]\n",
        "All = Total*num_frame\n",
        "print('Finish capturing and resizing the video!')"
      ],
      "metadata": {
        "id": "OeqoZISoSOMn",
        "colab": {
          "base_uri": "https://localhost:8080/"
        },
        "outputId": "e5f4fd06-8cea-4488-ae54-40437614fbe9"
      },
      "execution_count": null,
      "outputs": [
        {
          "output_type": "stream",
          "name": "stdout",
          "text": [
            "Finish capturing and resizing the video!\n"
          ]
        }
      ]
    },
    {
      "cell_type": "code",
      "source": [
        "##Apply Stochastic Gradient Descent to solve Frobenius norm minimization\n",
        "##The following part solves the problem min ||xy^T - M||_F^2, and we recover the low rank matrix to be xy^T\n",
        "##Parameters\n",
        "r = 1 #Rank of the low-rank matrix\n",
        "num_epoch = 0.5 #Total number of epochs, a positive integer or anything between 0 and 1\n",
        "batch_size = 1 #Batch size of each iteration, a positive integer\n",
        "learning_rate = 0.001 #Initial learningrate of the SGD, recommended to be between 1e-1 and 1e-2\n",
        "damp = 0.1 #damping coefficient of the SGD, recommended to be between 0.1 and 0.5\n",
        "damp_epoch = 0.2 #number of epochs between each damping\n",
        "if num_epoch<1:\n",
        "\tnum_batch = int(All*num_epoch/batch_size) #number of batchs per epoch\n",
        "else:\n",
        "\tnum_batch = int(All/batch_size) #number of batchs per epoch\n",
        "damp_iterates = int(damp_epoch*All/batch_size) #number of iterations between each damping\n",
        "\n",
        "##Start the timer\n",
        "t1 = datetime.datetime.now()\n",
        "\n",
        "##Random initialization\n",
        "x = 16*np.random.random((Total,r))\n",
        "y = 16*np.random.random((num_frame,r))"
      ],
      "metadata": {
        "id": "WYl9oymq2cQP"
      },
      "execution_count": null,
      "outputs": []
    },
    {
      "cell_type": "code",
      "source": [
        "#SGD update\n",
        "print('Start running SGD for {} epochs'.format(num_epoch))\n",
        "epoch_ceil = int(math.ceil(num_epoch))\n",
        "for i in range(epoch_ceil):\n",
        "\tp = np.random.permutation(All) #random permutation of the M\n",
        "\tprint('epoch {} of SGD started'.format(i+1))\n",
        "\tfor j in tqdm(range(num_batch)):\n",
        "\t\tx0 = x\n",
        "\t\ty0 = y\n",
        "\t\tfor t in range(j*batch_size, (j+1)*batch_size):\n",
        "\t\t\t##Calculate the gradient of the (a,b)th term at (x0,y0)\n",
        "\t\t\tcur = p[t]\n",
        "\t\t\tb = cur % num_frame\n",
        "\t\t\ta = math.floor(cur/num_frame)\n",
        "\t\t\th_x = sum( (( y.T *(  ( x[a] * y  ).flatten() - M[a,:] ) )[0]))/num_frame\n",
        "\t\t\tx[a] -= learning_rate * h_x\n",
        "\n",
        "\t\t\tpixel_random_l = [ int ( np.random.rand()*Total ) for _ in range(100) ]\n",
        "\t\t\th_y = np.dot ( (  ( y[b] * x[pixel_random_l]  ).flatten() - M.T[b,pixel_random_l] ) , x[pixel_random_l].flatten())/100\n",
        "\t\t\ty[b] -= learning_rate * h_y\n",
        "\t\tif j % damp_iterates == damp_iterates - 1:\n",
        "\t\t\tlearning_rate = learning_rate*damp\n",
        "t2 = datetime.datetime.now()\n",
        "print('running time for SGD is {} seconds'.format(t2-t1))\n",
        "L = np.dot(x,np.transpose(y))#xy^T\n",
        "L = np.around(L)\n",
        "L = np.minimum(L,255)\n",
        "S = np.abs(M - L) #the sparse matrix\n",
        "L = L.astype('uint8')\n",
        "S = S.astype('uint8')\n",
        "## Print running time of the SGD\n",
        "t2 = datetime.datetime.now()\n",
        "print('running time for smooth matrix completion is {} s'.format(t2-t1))\n",
        "\n"
      ],
      "metadata": {
        "id": "qAl0gmkwRdIt",
        "colab": {
          "base_uri": "https://localhost:8080/"
        },
        "outputId": "4da34ec5-d481-46c7-943f-514f252ce927"
      },
      "execution_count": null,
      "outputs": [
        {
          "metadata": {
            "tags": null
          },
          "name": "stdout",
          "output_type": "stream",
          "text": [
            "Start running SGD for 0.5 epochs\n",
            "epoch 1 of SGD started\n"
          ]
        },
        {
          "output_type": "stream",
          "name": "stderr",
          "text": [
            "100%|██████████| 20790000/20790000 [1:08:21<00:00, 5068.85it/s]\n"
          ]
        },
        {
          "output_type": "stream",
          "name": "stdout",
          "text": [
            "running time for SGD is 1:08:24.020334 seconds\n",
            "running time for smooth matrix completion is 1:08:26.071102 s\n"
          ]
        }
      ]
    },
    {
      "cell_type": "code",
      "source": [
        "# Define the codec and create VideoWriter object\n",
        "\n",
        "fourcc = cv.VideoWriter_fourcc('m','p','4','v') \n",
        "outd_path = os.path.join(output_folder,'rescaled_video.mp4')\n",
        "outl_path = os.path.join(output_folder,'L.mp4')\n",
        "outs_path = os.path.join(output_folder,'S.mp4')\n",
        "\n",
        "\n",
        "f_outD = cv.VideoWriter(outd_path, fourcc, frame_rate, (target_width, target_height))\n",
        "f_outL = cv.VideoWriter(outl_path, fourcc, frame_rate, (target_width, target_height))\n",
        "f_outS = cv.VideoWriter(outs_path, fourcc, frame_rate, (target_width, target_height))\n",
        "i = 0\n",
        "\n",
        "while(i<num_frame):\n",
        "\tframe = np.reshape(np.asarray(M[:,i]),size)\n",
        "\tf_outD.write(frame)\n",
        "\tframe = np.reshape(np.asarray(L[:,i]),size)\n",
        "\tf_outL.write(frame)\n",
        "\tframe = np.reshape(np.asarray(S[:,i]),size)\n",
        "\tf_outS.write(frame)\n",
        "\ti = i + 1\n",
        "\n",
        "f_outD.release()\n",
        "f_outL.release()\n",
        "f_outS.release()"
      ],
      "metadata": {
        "id": "Ib1_myWD3HRy"
      },
      "execution_count": null,
      "outputs": []
    }
  ]
}